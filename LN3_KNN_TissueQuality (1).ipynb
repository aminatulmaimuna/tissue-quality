{
  "nbformat": 4,
  "nbformat_minor": 0,
  "metadata": {
    "colab": {
      "provenance": []
    },
    "kernelspec": {
      "name": "python3",
      "display_name": "Python 3"
    },
    "language_info": {
      "name": "python"
    }
  },
  "cells": [
    {
      "cell_type": "code",
      "execution_count": 1,
      "metadata": {
        "colab": {
          "base_uri": "https://localhost:8080/"
        },
        "id": "KRTISGbVY_Bj",
        "outputId": "1b99896c-4007-484c-ba33-76dbc87a4813"
      },
      "outputs": [
        {
          "output_type": "stream",
          "name": "stdout",
          "text": [
            "Akurasi: 0.0\n",
            "Hasil Prediksi:\n",
            "Data test 1: Kelas prediksi = Jelek\n"
          ]
        }
      ],
      "source": [
        "from sklearn.neighbors import KNeighborsClassifier\n",
        "\n",
        "# Data training\n",
        "#training data\n",
        "X_train = [[8, 4], [4,5], [4,6],[7,7],[5,6],[6,5]]\n",
        "y_train = ['Baik', 'Jelek', 'Jelek','Baik','Jelek','Baik']\n",
        "\n",
        "# Inisialisasi model KNN dengan jumlah tetangga (n_neighbors) sebesar 3 (ubah nilai k)\n",
        "## Initialize the KNN model with the number of neighbors (n_neighbors) of 3 (change the value of k)\n",
        "knn = KNeighborsClassifier(n_neighbors=4)\n",
        "\n",
        "# Melatih model dengan data training\n",
        "#train model using data training\n",
        "knn.fit(X_train, y_train)\n",
        "\n",
        "# Data test\n",
        "X_test = [[2,5]]\n",
        "y_test = ['Baik']  # Label yang seharusnya didapat dari prediksi\n",
        "\n",
        "# Melakukan prediksi dengan model yang sudah dilatih\n",
        "predictions = knn.predict(X_test)\n",
        "\n",
        "# Mengevaluasi performa model\n",
        "accuracy = knn.score(X_test, y_test)\n",
        "print(\"Akurasi:\", accuracy)\n",
        "\n",
        "# Menampilkan hasil prediksi\n",
        "print(\"Hasil Prediksi:\")\n",
        "for i, pred in enumerate(predictions):\n",
        "    print(f\"Data test {i+1}: Kelas prediksi = {pred}\")\n"
      ]
    },
    {
      "cell_type": "code",
      "source": [],
      "metadata": {
        "id": "HTk9kZ1ObM2c"
      },
      "execution_count": null,
      "outputs": []
    }
  ]
}